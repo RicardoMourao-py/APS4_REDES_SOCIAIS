{
 "cells": [
  {
   "cell_type": "markdown",
   "id": "860c3c7a",
   "metadata": {},
   "source": [
    "# APS 2\n",
    "### Disciplina: Redes Sociais\n",
    "\n",
    "\n",
    "### Alunos:\n",
    "* Matheus Silva Melo de Oliveira\n",
    "* Nívea de Abreu de Dantas Lima\n",
    "* Ricardo Mourão Rodrigues Filho\n",
    "\n",
    "### Dataset escolhido: *Arxiv COND-MAT (Condense Matter Physics) collaboration network* \n",
    "Este abrange colaborações científicas entre artigos de autores submetidos à categoria de física relacioanda à matéria condensada. Se um autor **i** é coautor de um artigo com o autor **j**, o grafo contém uma aresta não direcionada de **i** para **j**. Se o artigo tiver a coautoria de **k** autores, isso gera um (sub)grafo completamente conectado em **k** nós."
   ]
  },
  {
   "cell_type": "markdown",
   "id": "6c5bb1c0",
   "metadata": {},
   "source": [
    "### Carrega o Grafo"
   ]
  },
  {
   "cell_type": "code",
   "execution_count": null,
   "id": "88c58c77",
   "metadata": {},
   "outputs": [],
   "source": [
    "import netpixi\n",
    "\n",
    "from netpixi.integration.gt import *\n",
    "from regression.integration.gt import *\n",
    "\n",
    "g = gt_load('CondMat.net.gz')"
   ]
  },
  {
   "cell_type": "markdown",
   "id": "19950ab7",
   "metadata": {},
   "source": [
    "### Limpando e isolando a componente principal do grafo"
   ]
  },
  {
   "cell_type": "code",
   "execution_count": null,
   "id": "151ee007",
   "metadata": {},
   "outputs": [],
   "source": [
    "import netpixi\n",
    "from netpixi.integration.gt import *"
   ]
  },
  {
   "cell_type": "code",
   "execution_count": null,
   "id": "1fb28f95",
   "metadata": {},
   "outputs": [],
   "source": [
    "g = gt_clean(g)\n",
    "m = gt_draw.sfdp_layout(g)\n",
    "gt_move(g, m)\n",
    "gt_save(g, 'CondMat_sfdp_clean.net.gz')\n",
    "r= netpixi.render('CondMat_sfdp_clean.net.gz',infinite=True);"
   ]
  },
  {
   "cell_type": "code",
   "execution_count": null,
   "id": "b03eaac4",
   "metadata": {},
   "outputs": [],
   "source": [
    "r.vertex_default(size=5)\n",
    "r.edge_default( width=1)"
   ]
  },
  {
   "cell_type": "markdown",
   "id": "bd527b4e",
   "metadata": {},
   "source": [
    "## Carregando grafo limpo"
   ]
  },
  {
   "cell_type": "code",
   "execution_count": null,
   "id": "3c45f930",
   "metadata": {},
   "outputs": [],
   "source": [
    "g = gt_load('CondMat_sfdp_clean.net.gz')"
   ]
  },
  {
   "cell_type": "markdown",
   "id": "498a0d4b",
   "metadata": {},
   "source": [
    "## Definindo clustering coefficient para a rede"
   ]
  },
  {
   "cell_type": "code",
   "execution_count": null,
   "id": "eecadfbf",
   "metadata": {},
   "outputs": [],
   "source": [
    "from graph_tool import clustering\n",
    "\n",
    "lc = clustering.local_clustering(g)\n",
    "\n",
    "i=0\n",
    "for value in lc:\n",
    "    if i == 15: break #visualização inicial\n",
    "    print(value)\n",
    "    i+=1"
   ]
  },
  {
   "cell_type": "markdown",
   "id": "4452e076",
   "metadata": {},
   "source": [
    "###  Tornando as métricas uma propriedade dos vértices do grafo."
   ]
  },
  {
   "cell_type": "code",
   "execution_count": null,
   "id": "8252f300",
   "metadata": {},
   "outputs": [],
   "source": [
    "g.add_vp('clustering', lc)"
   ]
  },
  {
   "cell_type": "markdown",
   "id": "306a28f4",
   "metadata": {},
   "source": [
    "### Visualização da métrica calculada na rede"
   ]
  },
  {
   "cell_type": "code",
   "execution_count": null,
   "id": "5c0f2d49",
   "metadata": {},
   "outputs": [],
   "source": [
    "gt_data(g)"
   ]
  },
  {
   "cell_type": "markdown",
   "id": "82e59244",
   "metadata": {},
   "source": [
    "## Usando as propriedades dos vértices para visualização"
   ]
  },
  {
   "cell_type": "code",
   "execution_count": null,
   "id": "674102d7",
   "metadata": {},
   "outputs": [],
   "source": [
    "m = gt_draw.sfdp_layout(g)\n",
    "gt_move(g, m)\n",
    "gt_save(g, 'CondMat_sfdp_clustering.net.gz')\n",
    "r = netpixi.render('CondMat_sfdp_clustering.net.gz')"
   ]
  },
  {
   "cell_type": "markdown",
   "id": "4019f268",
   "metadata": {},
   "source": [
    "##  vertex_scale para usar o Clustering coefficient como tamanho."
   ]
  },
  {
   "cell_type": "code",
   "execution_count": null,
   "id": "daca68f0",
   "metadata": {},
   "outputs": [],
   "source": [
    "r.vertex_scale('clustering', 5, 10)"
   ]
  },
  {
   "cell_type": "markdown",
   "id": "5aa13efb",
   "metadata": {},
   "source": [
    "EOF"
   ]
  }
 ],
 "metadata": {
  "kernelspec": {
   "display_name": "Python 3 (ipykernel)",
   "language": "python",
   "name": "python3"
  },
  "language_info": {
   "codemirror_mode": {
    "name": "ipython",
    "version": 3
   },
   "file_extension": ".py",
   "mimetype": "text/x-python",
   "name": "python",
   "nbconvert_exporter": "python",
   "pygments_lexer": "ipython3",
   "version": "3.10.10"
  }
 },
 "nbformat": 4,
 "nbformat_minor": 5
}
